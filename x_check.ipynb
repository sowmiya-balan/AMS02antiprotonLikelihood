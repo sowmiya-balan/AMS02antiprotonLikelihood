{
 "cells": [
  {
   "cell_type": "code",
   "execution_count": 6,
   "metadata": {},
   "outputs": [],
   "source": [
    "# Imports\n",
    "import numpy as np\n",
    "from pbarlike import *\n",
    "from pbarlike.drn_interface import create_DIFF_BRK_parameters,create_INJ_BRK_parameters\n",
    "from pbarlike.data import ams02Data"
   ]
  },
  {
   "cell_type": "code",
   "execution_count": 7,
   "metadata": {},
   "outputs": [],
   "source": [
    "# Reusable params that give preference for DM and other default or best fit params\n",
    "## Global Params\n",
    "pp_marg = np.array([0.0])\n",
    "include_low_energy_arg = False\n",
    "production_xsection_cov_arg = True\n",
    "pe_arg = True\n",
    "verbose_arg=False\n",
    "\n",
    "## Params that give DM preference for run1 + b bbar + marginalization over multinest sample\n",
    "mDMrun1bb = np.array([100])\n",
    "b_bbar_bf = np.array([0,0,1,0,0,0,0,0])\n",
    "svDMrun1bb = 10**(-25.5228)\n",
    "pmrun1 = \"run1\"\n",
    "run1_bb_marg = [mDMrun1bb,b_bbar_bf,svDMrun1bb,pp_marg,pmrun1]\n",
    "\n",
    "## Params that give DM preference for DIFF.BRK _ b bbar + marginalization %# For routine x-check, see local DRN example notebook\n",
    "m_DM_xc  = np.array([10**(5.018181818181818 - 3)])\n",
    "b_bbar_bf = np.array([1.000e-05, 1.000e-05, 9.993e-01, 1.000e-05, 1.000e-05, 1.000e-05,  1.000e-05, 1.000e-05])\n",
    "sv_xc = 5.3366992312063e-27\n",
    "pmdb = \"DIFF.BRK\"\n",
    "ppdbmarg = np.genfromtxt('pbarlike/dependencies/'+ pmdb +'/multinest_sample.dat')\n",
    "pp_db_xc = np.array(ppdbmarg[0,:10])\n",
    "xcheck_db = [m_DM_xc,b_bbar_bf,sv_xc,pp_db_xc,pmdb]\n",
    "\n",
    "## Scalar Singlet\n",
    "# lambda_hS = 0.0001\n",
    "m_s100 = np.array([100.])\n",
    "bf_ss_0001 = np.fromstring('0.00000000e+00 1.02133998e-06 2.40315289e-03 0.00000000e+00 7.41973454e-01 2.55334994e-01 0.00000000e+00 0.00000000e+00',sep=' ')\n",
    "sigma_v_ss_0001 = 1.701045825869065e-31\n",
    "xcheck_db_ssdm1 = [m_s100,bf_ss_0001,sigma_v_ss_0001,pp_db_xc,pmdb]\n",
    "# lambda_hS = 0.001\n",
    "m_s1000 = np.array([1000.])\n",
    "bf_ss_001 = np.fromstring('0.00000000e+00 4.40629758e-07 6.23447950e-06 1.81820266e-02 4.89115645e-01 2.43878879e-01 0.00000000e+00 2.48815994e-01',sep=' ')\n",
    "sigma_v_ss_001 = 2.369587247718693e-31\n",
    "xcheck_db_ssdm2 = [m_s1000,bf_ss_001,sigma_v_ss_001,pp_db_xc,pmdb]"
   ]
  },
  {
   "cell_type": "code",
   "execution_count": 8,
   "metadata": {},
   "outputs": [],
   "source": [
    "# Setting params for check\n",
    "[DM_mass,bf,sigma_v,prop_params,prop_model] = xcheck_db"
   ]
  },
  {
   "cell_type": "code",
   "execution_count": 9,
   "metadata": {},
   "outputs": [
    {
     "name": "stdout",
     "output_type": "stream",
     "text": [
      "\n",
      " Initializing DRN ...\n",
      "\n",
      " The simulation tool has been initiated. \n",
      "\n",
      " Initializing DRN ...\n"
     ]
    }
   ],
   "source": [
    "#Initializing data and propagation model\n",
    "result = loglike_recipe(DM_mass, bf, sigma_v, prop_params, prop_model=prop_model, \\\n",
    "                               Data=ams02Data,include_low_energy=include_low_energy_arg, \\\n",
    "                               production_xsection_cov=production_xsection_cov_arg,prevent_extrapolation= pe_arg, verbose=verbose_arg)"
   ]
  },
  {
   "cell_type": "code",
   "execution_count": 10,
   "metadata": {},
   "outputs": [
    {
     "name": "stdout",
     "output_type": "stream",
     "text": [
      "del_chi2 =  [-3.930248175048632]\n",
      "del_chi_cov =  [7.336307031695547]\n"
     ]
    }
   ],
   "source": [
    "# Results\n",
    "print('del_chi2 = ', result[\"uncorrelated\"])\n",
    "print('del_chi_cov = ', result[\"correlated\"])"
   ]
  }
 ],
 "metadata": {
  "kernelspec": {
   "display_name": "pwe",
   "language": "python",
   "name": "python3"
  },
  "language_info": {
   "codemirror_mode": {
    "name": "ipython",
    "version": 3
   },
   "file_extension": ".py",
   "mimetype": "text/x-python",
   "name": "python",
   "nbconvert_exporter": "python",
   "pygments_lexer": "ipython3",
   "version": "3.8.16"
  },
  "orig_nbformat": 4,
  "vscode": {
   "interpreter": {
    "hash": "a9dd8f986d0a55c300a21e755db01b30ba34f4b4a37400856de6c35b2b89446e"
   }
  }
 },
 "nbformat": 4,
 "nbformat_minor": 2
}
