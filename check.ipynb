{
 "cells": [
  {
   "cell_type": "code",
   "execution_count": 1,
   "metadata": {},
   "outputs": [
    {
     "name": "stdout",
     "output_type": "stream",
     "text": [
      "\u001b[32m Loading python backend - pbarlike 1.0\n",
      "\u001b[32m Imported required python modules - numpy, tensorflow, iminuit.Minuit\n",
      "\u001b[32m Loaded and processed AMS-02 dataset\n",
      "\u001b[32m Loaded required custom python modules - DRN_interface, solar_mod\n",
      "\u001b[37m     Loaded pbarlike 1.0\n"
     ]
    }
   ],
   "source": [
    "# Imports\n",
    "import matplotlib.pyplot as plt\n",
    "from preamble import *\n",
    "from DRN_interface import *\n",
    "from pbarlike import *\n",
    "# np.set_printoptions(precision=5)"
   ]
  },
  {
   "cell_type": "code",
   "execution_count": 2,
   "metadata": {},
   "outputs": [],
   "source": [
    "# Reusable params that give preference for DM and other default or best fit params\n",
    "## Params that give DM preference for run1 + b bbar + marginalization over multinest sample\n",
    "mDMrun1bb = np.array([100])\n",
    "svDMrun1bb = 10**(-25.5228)\n",
    "b_bbar_bf = np.array([0,0,1,0,0,0,0,0])\n",
    "pmrun1 = \"run1\"\n",
    "\n",
    "## Params that give DM preference for DIFF.BRK _ b bbar + marginalization\n",
    "mDMdb_bb = np.array([2000])\n",
    "svDMdb_bb = 6e-26\n",
    "b_bbar_bf = np.array([0,0,1,0,0,0,0,0])\n",
    "pmdb = \"DIFF.BRK\"\n",
    "\n",
    "pp_marg = np.array([0.0])\n",
    "\n",
    "## From example notebook\n",
    "m_DM = np.array([100.])\n",
    "equal_bf = np.ones((1, 8))* 1/8\n",
    "def_sv = 10**(-25.5228)\n",
    "pp_run1 = np.array([1.8, 1.79, 2.405, 2.357, 7.92e+03, 0.37, 2.05e+28, 0.419, 8.84, 0.09, 2.60])\n",
    "pp_db = np.array([2.34, 2.28, 3.63e+28, -0.66, 0.52, -0.15, 3.83e+3, 0.4, 2.05e+5, 0.21])\n",
    "\n",
    "## Multinest sample\n",
    "ppdbmarg = np.genfromtxt('dependencies/'+ pmdb +'/multinest_sample.dat')\n",
    "\n",
    "## Scalar Singlet\n",
    "# lambda_hS = 0.0001\n",
    "bf_ss_0001 = np.fromstring('0.00000000e+00 1.02133998e-06 2.40315289e-03 0.00000000e+00 7.41973454e-01 2.55334994e-01 0.00000000e+00 0.00000000e+00',sep=' ')\n",
    "sigma_v_ss_0001 = 1.701045825869065e-31\n",
    "# lambda_hS = 0.001\n",
    "bf_ss_001 = np.fromstring('0.00000000e+00 4.40629758e-07 6.23447950e-06 1.81820266e-02 4.89115645e-01 2.43878879e-01 0.00000000e+00 2.48815994e-01',sep=' ')\n",
    "sigma_v_ss_001 = 2.369587247718693e-31"
   ]
  },
  {
   "cell_type": "code",
   "execution_count": 3,
   "metadata": {},
   "outputs": [],
   "source": [
    "# Setting params for check\n",
    "DMmass = m_DM#np.array([10**(5.018181818181818 - 3)]) \n",
    "bf = bf_ss_0001\n",
    "prop_params = pp_marg #np.array(ppdbmarg[0,:10])\n",
    "sigma_v = sigma_v_ss_0001 #5.336699231206302e-27 \n",
    "prop_model = pmdb\n",
    "prevent_ex = True"
   ]
  },
  {
   "cell_type": "code",
   "execution_count": 4,
   "metadata": {},
   "outputs": [
    {
     "name": "stdout",
     "output_type": "stream",
     "text": [
      "The number of propagation parameters is not consistent with the propagation model. The default multinest sample will be used for marginalization.\n",
      "\n",
      " The simulation tool has been initiated. \n",
      "\n"
     ]
    }
   ],
   "source": [
    "# Initializing DRN\n",
    "DRN = DRNet(propagation_parameters=prop_params,propagation_model=prop_model,prevent_extrapolation=prevent_ex,data=phi_ams,errors=error_ams,cov_inv=ams_cov_inv)"
   ]
  },
  {
   "cell_type": "code",
   "execution_count": 5,
   "metadata": {},
   "outputs": [
    {
     "data": {
      "text/plain": [
       "(<tf.Tensor: shape=(1, 28), dtype=float32, numpy=\n",
       " array([[4.4431342e-03, 6.2424173e-03, 9.0337219e-03, 1.3011864e-02,\n",
       "         1.7967613e-02, 2.2995971e-02, 2.6557745e-02, 2.7313534e-02,\n",
       "         2.4880413e-02, 2.0148272e-02, 1.4663270e-02, 9.6997619e-03,\n",
       "         5.8958312e-03, 3.3327697e-03, 1.7713162e-03, 9.0158224e-04,\n",
       "         4.4571242e-04, 2.1590429e-04, 1.0279409e-04, 4.8201666e-05,\n",
       "         2.2363189e-05, 1.0288032e-05, 4.6990417e-06, 2.1362061e-06,\n",
       "         9.7433428e-07, 4.5327437e-07, 2.1091472e-07, 9.7959088e-08]],\n",
       "       dtype=float32)>,\n",
       " array([[6.37562447e-03, 8.07946326e-03, 9.99459754e-03, 1.18229813e-02,\n",
       "         1.35893411e-02, 1.51944565e-02, 1.62900199e-02, 1.73323694e-02,\n",
       "         1.75154775e-02, 1.75388567e-02, 1.71154002e-02, 1.62387016e-02,\n",
       "         1.53765012e-02, 1.39897998e-02, 1.26693370e-02, 1.13403237e-02,\n",
       "         9.90903393e-03, 8.66232659e-03, 7.43958722e-03, 6.31923127e-03,\n",
       "         5.37409187e-03, 4.48885571e-03, 3.73496446e-03, 3.10498572e-03,\n",
       "         2.55304687e-03, 2.10457811e-03, 1.73100985e-03, 1.40893107e-03,\n",
       "         1.14296818e-03, 9.28834342e-04, 7.52980082e-04, 6.09951857e-04,\n",
       "         4.93133982e-04, 3.97794718e-04, 3.21372453e-04, 2.59934404e-04,\n",
       "         2.10666905e-04, 1.70393721e-04, 1.37700068e-04, 1.11347582e-04,\n",
       "         8.99867067e-05, 7.27275311e-05, 5.87774617e-05, 4.75507759e-05,\n",
       "         3.84283721e-05, 3.10555455e-05, 2.50691793e-05, 2.02204194e-05,\n",
       "         1.63036957e-05, 1.17287196e-05, 7.53394105e-06, 4.82380597e-06,\n",
       "         3.01572678e-06, 1.80768203e-06, 1.04473625e-06, 6.17762235e-07,\n",
       "         3.13918714e-07, 9.98123567e-08]]))"
      ]
     },
     "execution_count": 5,
     "metadata": {},
     "output_type": "execute_result"
    }
   ],
   "source": [
    "# Unmodulated and solar modulated secondary antiproton fluxes\n",
    "DRN.phi_CR_LIS,DRN.phi_CR\n"
   ]
  },
  {
   "cell_type": "code",
   "execution_count": 6,
   "metadata": {},
   "outputs": [],
   "source": [
    "# Preprocessing DM params\n",
    "DRN.preprocessing_DMparams(DM_mass=DMmass,br_fr=bf,sigma_v=sigma_v)"
   ]
  },
  {
   "cell_type": "code",
   "execution_count": 7,
   "metadata": {},
   "outputs": [],
   "source": [
    "# DM simulation\n",
    "phi_DM_LIS = DRN.LIS_sim()\n",
    "phi_DMCR = DRN.TOA_sim(phi_DM_LIS)"
   ]
  },
  {
   "cell_type": "code",
   "execution_count": 8,
   "metadata": {},
   "outputs": [
    {
     "data": {
      "text/plain": [
       "array([[5.33704812e-08, 5.50933830e-08, 5.50835568e-08, 5.32059752e-08,\n",
       "        4.96269744e-08, 4.44980051e-08, 3.83099454e-08, 3.15698914e-08,\n",
       "        2.47205472e-08, 1.83432965e-08, 1.26716715e-08, 8.16769357e-09,\n",
       "        4.89640493e-09, 2.69451019e-09, 1.32863698e-09, 5.70919871e-10,\n",
       "        2.06924533e-10, 5.83689829e-11, 1.12691049e-11, 1.35968124e-12,\n",
       "        1.20794104e-13, 3.51899148e-14, 0.00000000e+00, 0.00000000e+00,\n",
       "        0.00000000e+00, 0.00000000e+00, 0.00000000e+00, 0.00000000e+00]])"
      ]
     },
     "execution_count": 8,
     "metadata": {},
     "output_type": "execute_result"
    }
   ],
   "source": [
    "# Unmodulated primary antiproton flux\n",
    "phi_DM_LIS"
   ]
  },
  {
   "cell_type": "code",
   "execution_count": 9,
   "metadata": {},
   "outputs": [
    {
     "data": {
      "text/plain": [
       "array([[6.37564264e-03, 8.07948302e-03, 9.99461796e-03, 1.18230030e-02,\n",
       "        1.35893647e-02, 1.51944809e-02, 1.62900428e-02, 1.73323904e-02,\n",
       "        1.75154968e-02, 1.75388743e-02, 1.71154165e-02, 1.62387171e-02,\n",
       "        1.53765158e-02, 1.39898131e-02, 1.26693491e-02, 1.13403345e-02,\n",
       "        9.90904338e-03, 8.66233485e-03, 7.43959432e-03, 6.31923729e-03,\n",
       "        5.37409699e-03, 4.48885943e-03, 3.73496695e-03, 3.10498729e-03,\n",
       "        2.55304809e-03, 2.10457911e-03, 1.73101068e-03, 1.40893175e-03,\n",
       "        1.14296873e-03, 9.28834784e-04, 7.52980441e-04, 6.09952148e-04,\n",
       "        4.93134217e-04, 3.97794925e-04, 3.21372666e-04, 2.59934614e-04,\n",
       "        2.10667104e-04, 1.70393883e-04, 1.37700199e-04, 1.11347688e-04,\n",
       "        8.99867807e-05, 7.27275711e-05, 5.87774781e-05, 4.75507764e-05,\n",
       "        3.84283721e-05, 3.10555455e-05, 2.50691793e-05, 2.02204194e-05,\n",
       "        1.63036957e-05, 1.17287196e-05, 7.53394105e-06, 4.82380597e-06,\n",
       "        3.01572678e-06, 1.80768203e-06, 1.04473625e-06, 6.17762235e-07,\n",
       "        3.13918714e-07, 9.98123567e-08]])"
      ]
     },
     "execution_count": 9,
     "metadata": {},
     "output_type": "execute_result"
    }
   ],
   "source": [
    "# Total solar modulated predicted antiproton flux\n",
    "phi_DMCR"
   ]
  },
  {
   "cell_type": "code",
   "execution_count": 10,
   "metadata": {},
   "outputs": [
    {
     "data": {
      "text/plain": [
       "(array([40.44264808]),\n",
       " array([40.44304443]),\n",
       " array([93.3434774]),\n",
       " array([93.34340466]))"
      ]
     },
     "execution_count": 10,
     "metadata": {},
     "output_type": "execute_result"
    }
   ],
   "source": [
    "# Uncorrelated and correlated chi squares\n",
    "DRN.chi2(phi_DMCR),DRN.chi2_CR_uncorr,DRN.chi2_cov(phi_DMCR),DRN.chi2_CR_corr"
   ]
  },
  {
   "cell_type": "code",
   "execution_count": 11,
   "metadata": {},
   "outputs": [],
   "source": [
    "# Uncorrelated and correlated log likelihood ratios\n",
    "del_chi2 = DRN.del_chi2(phi_DMCR)\n",
    "del_chi2_corr = DRN.del_chi2_corr(phi_DMCR)\n",
    "result = {'uncorrelated' : del_chi2 , 'correlated' : del_chi2_corr}"
   ]
  },
  {
   "cell_type": "code",
   "execution_count": 12,
   "metadata": {},
   "outputs": [
    {
     "name": "stdout",
     "output_type": "stream",
     "text": [
      "del_chi2 =  0.00019817644129099305\n",
      "del_chi_cov =  -3.6368876756440704e-05\n"
     ]
    }
   ],
   "source": [
    "# Results\n",
    "print('del_chi2 = ', result[\"uncorrelated\"])\n",
    "print('del_chi_cov = ', result[\"correlated\"])"
   ]
  },
  {
   "cell_type": "code",
   "execution_count": 13,
   "metadata": {},
   "outputs": [
    {
     "data": {
      "image/png": "[encoded data removed]",
      "text/plain": [
       "<Figure size 800x600 with 1 Axes>"
      ]
     },
     "metadata": {},
     "output_type": "display_data"
    }
   ],
   "source": [
    "# Plot of solar modulated DM+CR flux and AMS flux\n",
    "DM_LIS = phi_DM_LIS[0]\n",
    "S_flux = DRN.phi_CR_LIS[0]\n",
    "DMCR_flux = phi_DMCR[0]\n",
    "\n",
    "DM_E = E_ams\n",
    "S_E = E_ams\n",
    "\n",
    "plt.figure(figsize=(8,6))\n",
    "plt.title('Cosmic Ray Antiproton Flux')\n",
    "plt.scatter(E_ams, E_ams**2.7 * phi_ams, c='g', label = 'AMS antiproton flux')\n",
    "plt.errorbar(E_ams,E_ams**2.7*phi_ams,error_ams,linestyle = '')\n",
    "plt.plot(DM_E, DM_E**2.7 * DMCR_flux,  c = 'black', linestyle = 'dotted', label = 'Total solar modulated flux')\n",
    "plt.plot(E_drn, E_drn**2.7 * S_flux,c='r', linestyle = 'dashdot', label = 'Secondary LIS flux ')\n",
    "plt.plot(E_drn, E_drn**2.7 * DM_LIS,c='b', linestyle = 'dashdot', label = 'Primary LIS flux')\n",
    "\n",
    "plt.legend()\n",
    "plt.xscale('log')\n",
    "plt.yscale('log')\n",
    "plt.ylabel('$\\Phi \\cdot E^{2.7}$ [GeV$^{1.7}$ m$^{-2}$ sr$^{-1}$ s$^{-1}$]')\n",
    "plt.xlabel('E [GeV]')\n",
    "plt.show()\n"
   ]
  }
 ],
 "metadata": {
  "kernelspec": {
   "display_name": "Python 3.8.13 ('maycp')",
   "language": "python",
   "name": "python3"
  },
  "language_info": {
   "codemirror_mode": {
    "name": "ipython",
    "version": 3
   },
   "file_extension": ".py",
   "mimetype": "text/x-python",
   "name": "python",
   "nbconvert_exporter": "python",
   "pygments_lexer": "ipython3",
   "version": "3.8.13"
  },
  "orig_nbformat": 4,
  "vscode": {
   "interpreter": {
    "hash": "b947779a67cd656619b326a9b74cfbbbbd7bfca421edf02a996d6d766f87fb22"
   }
  }
 },
 "nbformat": 4,
 "nbformat_minor": 2
}
