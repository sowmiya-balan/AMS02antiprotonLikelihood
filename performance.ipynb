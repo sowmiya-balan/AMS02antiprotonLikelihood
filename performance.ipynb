{
 "cells": [
  {
   "cell_type": "code",
   "execution_count": 1,
   "metadata": {},
   "outputs": [],
   "source": [
    "# Imports\n",
    "import numpy as np\n",
    "from pbarlike import *\n",
    "from pbarlike.drn_interface import create_DIFF_BRK_parameters,create_INJ_BRK_parameters\n",
    "from pbarlike.data import ams02Data\n",
    "from pbarlike.propagation import Propagation\n",
    "from pbarlike.drn_interface import DRNet\n",
    "from pbarlike.solar_modulation import ForceFieldApprox\n",
    "from pbarlike.likelihoods import LogLikes,LogLikeRatios"
   ]
  },
  {
   "cell_type": "code",
   "execution_count": 2,
   "metadata": {},
   "outputs": [],
   "source": [
    "## Global Params\n",
    "pp_marg = np.array([0.0])\n",
    "include_low_energy_arg = False\n",
    "production_xsection_cov_arg = True\n",
    "pe_arg = True\n",
    "verbose_arg=False\n",
    "\n",
    "## Params that give DM preference for DIFF.BRK _ b bbar + marginalization\n",
    "m_DM_xc  = np.array([10**(5.018181818181818 - 3)])\n",
    "b_bbar_bf = np.array([1.000e-05, 1.000e-05, 9.993e-01, 1.000e-05, 1.000e-05, 1.000e-05,  1.000e-05, 1.000e-05])\n",
    "sv_xc = 5.3366992312063e-27\n",
    "pmdb = \"DIFF.BRK\"\n",
    "ppdbmarg = np.genfromtxt('pbarlike/dependencies/'+ pmdb +'/multinest_sample.dat')\n",
    "pp_db_xc = np.array(ppdbmarg[:,:10])\n",
    "\n",
    "# Setting params for check\n",
    "xcheck_db = [m_DM_xc,b_bbar_bf,sv_xc,pp_db_xc,pmdb]\n",
    "timer_db = [m_DM_xc,b_bbar_bf,sv_xc,pp_marg,pmdb]\n",
    "[DM_mass,bf,sigma_v,prop_params,prop_model] = xcheck_db"
   ]
  },
  {
   "cell_type": "code",
   "execution_count": 3,
   "metadata": {},
   "outputs": [
    {
     "name": "stdout",
     "output_type": "stream",
     "text": [
      "\n",
      " Initializing DRN ...\n",
      "\n",
      " At least one of the inputs for gamma_2,p is outside the trained parameter ranges. The default multinest sample will be used for marginalization. \n",
      "2.3083323198377546 2.3702775768338533\n",
      "\n",
      " The simulation tool has been initiated. \n"
     ]
    }
   ],
   "source": [
    "## Loading data, covariance matrices and multinest sample for marginalization;\n",
    "## for use in later timing sections\n",
    "data = ams02Data(include_low_energy_arg)\n",
    "propagation_config = Propagation(prop_model, production_xsection_cov_arg, include_low_energy_arg)\n",
    "drn = DRNet(propagation_config,prop_params,pe_arg,verbose_arg)\n",
    "sol_mod = ForceFieldApprox(data, propagation_config,drn,verbose_arg)\n",
    "chi_squares = LogLikes(data,propagation_config,verbose_arg)\n",
    "loglike_ratios = LogLikeRatios(drn,chi_squares,sol_mod,verbose_arg)\n",
    "drn.preprocessing_DMparams(DM_mass, bf, sigma_v)\n",
    "phi_DM_LIS = drn.DM_LIS_sim()"
   ]
  },
  {
   "cell_type": "code",
   "execution_count": 4,
   "metadata": {},
   "outputs": [
    {
     "name": "stdout",
     "output_type": "stream",
     "text": [
      "474 ms ± 4.89 ms per loop (mean ± std. dev. of 7 runs, 1 loop each)\n"
     ]
    }
   ],
   "source": [
    "%%timeit\n",
    "## Loading data, covariance matrices and multinest sample for marginalization\n",
    "data = ams02Data(include_low_energy_arg)\n",
    "propagation_config = Propagation(prop_model, production_xsection_cov_arg, include_low_energy_arg)"
   ]
  },
  {
   "cell_type": "code",
   "execution_count": 5,
   "metadata": {},
   "outputs": [
    {
     "name": "stdout",
     "output_type": "stream",
     "text": [
      "\n",
      " Initializing DRN ...\n",
      "\n",
      " At least one of the inputs for gamma_2,p is outside the trained parameter ranges. The default multinest sample will be used for marginalization. \n",
      "2.3083323198377546 2.3702775768338533\n",
      "\n",
      " The simulation tool has been initiated. \n",
      "\n",
      " Initializing DRN ...\n",
      "\n",
      " At least one of the inputs for gamma_2,p is outside the trained parameter ranges. The default multinest sample will be used for marginalization. \n",
      "2.3083323198377546 2.3702775768338533\n",
      "\n",
      " The simulation tool has been initiated. \n",
      "\n",
      " Initializing DRN ...\n",
      "\n",
      " At least one of the inputs for gamma_2,p is outside the trained parameter ranges. The default multinest sample will be used for marginalization. \n",
      "2.3083323198377546 2.3702775768338533\n",
      "\n",
      " The simulation tool has been initiated. \n",
      "\n",
      " Initializing DRN ...\n",
      "\n",
      " At least one of the inputs for gamma_2,p is outside the trained parameter ranges. The default multinest sample will be used for marginalization. \n",
      "2.3083323198377546 2.3702775768338533\n",
      "\n",
      " The simulation tool has been initiated. \n",
      "\n",
      " Initializing DRN ...\n",
      "\n",
      " At least one of the inputs for gamma_2,p is outside the trained parameter ranges. The default multinest sample will be used for marginalization. \n",
      "2.3083323198377546 2.3702775768338533\n",
      "\n",
      " The simulation tool has been initiated. \n",
      "\n",
      " Initializing DRN ...\n",
      "\n",
      " At least one of the inputs for gamma_2,p is outside the trained parameter ranges. The default multinest sample will be used for marginalization. \n",
      "2.3083323198377546 2.3702775768338533\n",
      "\n",
      " The simulation tool has been initiated. \n",
      "\n",
      " Initializing DRN ...\n",
      "\n",
      " At least one of the inputs for gamma_2,p is outside the trained parameter ranges. The default multinest sample will be used for marginalization. \n",
      "2.3083323198377546 2.3702775768338533\n",
      "\n",
      " The simulation tool has been initiated. \n",
      "\n",
      " Initializing DRN ...\n",
      "\n",
      " At least one of the inputs for gamma_2,p is outside the trained parameter ranges. The default multinest sample will be used for marginalization. \n",
      "2.3083323198377546 2.3702775768338533\n",
      "\n",
      " The simulation tool has been initiated. \n",
      "492 ms ± 14.4 ms per loop (mean ± std. dev. of 7 runs, 1 loop each)\n"
     ]
    }
   ],
   "source": [
    "%%timeit\n",
    "## Simulating secondary antiproton flux at the interstellar region\n",
    "drn = DRNet(propagation_config,prop_params,pe_arg,verbose_arg)"
   ]
  },
  {
   "cell_type": "code",
   "execution_count": 6,
   "metadata": {},
   "outputs": [
    {
     "name": "stdout",
     "output_type": "stream",
     "text": [
      "5.15 s ± 333 ms per loop (mean ± std. dev. of 7 runs, 1 loop each)\n"
     ]
    }
   ],
   "source": [
    "%%timeit\n",
    "## Applying solar modulation\n",
    "sol_mod = ForceFieldApprox(data, propagation_config,drn,verbose_arg)"
   ]
  },
  {
   "cell_type": "code",
   "execution_count": 7,
   "metadata": {},
   "outputs": [
    {
     "name": "stdout",
     "output_type": "stream",
     "text": [
      "3.73 s ± 652 ms per loop (mean ± std. dev. of 7 runs, 1 loop each)\n"
     ]
    }
   ],
   "source": [
    "%%timeit\n",
    "## Simulating primary antiproton flux at the interstellar region\n",
    "drn.preprocessing_DMparams(DM_mass, bf, sigma_v)\n",
    "phi_DM_LIS = drn.DM_LIS_sim()"
   ]
  },
  {
   "cell_type": "code",
   "execution_count": 8,
   "metadata": {},
   "outputs": [
    {
     "name": "stdout",
     "output_type": "stream",
     "text": [
      "\n",
      " Initializing DRN ...\n",
      "\n",
      " At least one of the inputs for gamma_2,p is outside the trained parameter ranges. The default multinest sample will be used for marginalization. \n",
      "2.3083323198377546 2.3702775768338533\n",
      "\n",
      " The simulation tool has been initiated. \n",
      "\n",
      " Initializing DRN ...\n",
      "\n",
      " At least one of the inputs for gamma_2,p is outside the trained parameter ranges. The default multinest sample will be used for marginalization. \n",
      "2.3083323198377546 2.3702775768338533\n",
      "\n",
      " The simulation tool has been initiated. \n",
      "\n",
      " Initializing DRN ...\n",
      "\n",
      " At least one of the inputs for gamma_2,p is outside the trained parameter ranges. The default multinest sample will be used for marginalization. \n",
      "2.3083323198377546 2.3702775768338533\n",
      "\n",
      " The simulation tool has been initiated. \n",
      "\n",
      " Initializing DRN ...\n",
      "\n",
      " At least one of the inputs for gamma_2,p is outside the trained parameter ranges. The default multinest sample will be used for marginalization. \n",
      "2.3083323198377546 2.3702775768338533\n",
      "\n",
      " The simulation tool has been initiated. \n",
      "\n",
      " Initializing DRN ...\n",
      "\n",
      " At least one of the inputs for gamma_2,p is outside the trained parameter ranges. The default multinest sample will be used for marginalization. \n",
      "2.3083323198377546 2.3702775768338533\n",
      "\n",
      " The simulation tool has been initiated. \n",
      "\n",
      " Initializing DRN ...\n",
      "\n",
      " At least one of the inputs for gamma_2,p is outside the trained parameter ranges. The default multinest sample will be used for marginalization. \n",
      "2.3083323198377546 2.3702775768338533\n",
      "\n",
      " The simulation tool has been initiated. \n",
      "\n",
      " Initializing DRN ...\n",
      "\n",
      " At least one of the inputs for gamma_2,p is outside the trained parameter ranges. The default multinest sample will be used for marginalization. \n",
      "2.3083323198377546 2.3702775768338533\n",
      "\n",
      " The simulation tool has been initiated. \n",
      "\n",
      " Initializing DRN ...\n",
      "\n",
      " At least one of the inputs for gamma_2,p is outside the trained parameter ranges. The default multinest sample will be used for marginalization. \n",
      "2.3083323198377546 2.3702775768338533\n",
      "\n",
      " The simulation tool has been initiated. \n",
      "12.8 s ± 1.72 s per loop (mean ± std. dev. of 7 runs, 1 loop each)\n"
     ]
    }
   ],
   "source": [
    "%%timeit\n",
    "## Simulating total antiproton flux at the top of the atmosphere; phi_DMCR_uc and phi_DMCR_c are the same\n",
    "## for marginalization\n",
    "drn = DRNet(propagation_config,prop_params,pe_arg,verbose_arg)\n",
    "sol_mod = ForceFieldApprox(data, propagation_config,drn,verbose_arg)\n",
    "drn.preprocessing_DMparams(DM_mass, bf, sigma_v)\n",
    "phi_DM_LIS = drn.DM_LIS_sim()\n",
    "phi_DMCR_uc = sol_mod.TOA_sim(phi_DM_LIS,'uncorrelated')"
   ]
  },
  {
   "cell_type": "code",
   "execution_count": 9,
   "metadata": {},
   "outputs": [
    {
     "name": "stdout",
     "output_type": "stream",
     "text": [
      "2.76 s ± 531 ms per loop (mean ± std. dev. of 7 runs, 1 loop each)\n"
     ]
    }
   ],
   "source": [
    "%%timeit\n",
    "## Calculating uncorrelated log-likelihood ratios\n",
    "phi_DMCR_uc = sol_mod.TOA_sim(phi_DM_LIS,'uncorrelated')\n",
    "del_chi2_uncorr = loglike_ratios.del_chi2_uncorr(phi_DMCR_uc)"
   ]
  },
  {
   "cell_type": "code",
   "execution_count": 10,
   "metadata": {},
   "outputs": [
    {
     "name": "stdout",
     "output_type": "stream",
     "text": [
      "2.78 s ± 60.8 ms per loop (mean ± std. dev. of 7 runs, 1 loop each)\n"
     ]
    }
   ],
   "source": [
    "%%timeit\n",
    "## Calculating correlated log-likelihood ratios\n",
    "phi_DMCR_c = sol_mod.TOA_sim(phi_DM_LIS,'correlated')\n",
    "del_chi2_corr = loglike_ratios.del_chi2_corr(phi_DMCR_c)"
   ]
  },
  {
   "cell_type": "code",
   "execution_count": 11,
   "metadata": {},
   "outputs": [
    {
     "name": "stdout",
     "output_type": "stream",
     "text": [
      "\n",
      " Initializing DRN ...\n",
      "\n",
      " At least one of the inputs for gamma_2,p is outside the trained parameter ranges. The default multinest sample will be used for marginalization. \n",
      "2.3083323198377546 2.3702775768338533\n",
      "\n",
      " The simulation tool has been initiated. \n",
      "\n",
      " Initializing DRN ...\n",
      "\n",
      " At least one of the inputs for gamma_2,p is outside the trained parameter ranges. The default multinest sample will be used for marginalization. \n",
      "2.3083323198377546 2.3702775768338533\n",
      "\n",
      " The simulation tool has been initiated. \n",
      "\n",
      " Initializing DRN ...\n",
      "\n",
      " At least one of the inputs for gamma_2,p is outside the trained parameter ranges. The default multinest sample will be used for marginalization. \n",
      "2.3083323198377546 2.3702775768338533\n",
      "\n",
      " The simulation tool has been initiated. \n",
      "\n",
      " Initializing DRN ...\n",
      "\n",
      " At least one of the inputs for gamma_2,p is outside the trained parameter ranges. The default multinest sample will be used for marginalization. \n",
      "2.3083323198377546 2.3702775768338533\n",
      "\n",
      " The simulation tool has been initiated. \n",
      "\n",
      " Initializing DRN ...\n",
      "\n",
      " At least one of the inputs for gamma_2,p is outside the trained parameter ranges. The default multinest sample will be used for marginalization. \n",
      "2.3083323198377546 2.3702775768338533\n",
      "\n",
      " The simulation tool has been initiated. \n",
      "\n",
      " Initializing DRN ...\n",
      "\n",
      " At least one of the inputs for gamma_2,p is outside the trained parameter ranges. The default multinest sample will be used for marginalization. \n",
      "2.3083323198377546 2.3702775768338533\n",
      "\n",
      " The simulation tool has been initiated. \n",
      "\n",
      " Initializing DRN ...\n",
      "\n",
      " At least one of the inputs for gamma_2,p is outside the trained parameter ranges. The default multinest sample will be used for marginalization. \n",
      "2.3083323198377546 2.3702775768338533\n",
      "\n",
      " The simulation tool has been initiated. \n",
      "\n",
      " Initializing DRN ...\n",
      "\n",
      " At least one of the inputs for gamma_2,p is outside the trained parameter ranges. The default multinest sample will be used for marginalization. \n",
      "2.3083323198377546 2.3702775768338533\n",
      "\n",
      " The simulation tool has been initiated. \n",
      "14.8 s ± 2.38 s per loop (mean ± std. dev. of 7 runs, 1 loop each)\n"
     ]
    }
   ],
   "source": [
    "%%timeit\n",
    "## A full routine of simulating antiproton fluxes and calculating both uncorrelated log-likelihood ratio\n",
    "drn = DRNet(propagation_config,prop_params,pe_arg,verbose_arg)\n",
    "sol_mod = ForceFieldApprox(data, propagation_config,drn,verbose_arg)\n",
    "chi_squares = LogLikes(data,propagation_config,verbose_arg)\n",
    "loglike_ratios = LogLikeRatios(drn,chi_squares,sol_mod,verbose_arg)\n",
    "drn.preprocessing_DMparams(DM_mass, bf, sigma_v)\n",
    "phi_DM_LIS = drn.DM_LIS_sim()\n",
    "phi_DMCR_uc = sol_mod.TOA_sim(phi_DM_LIS,'uncorrelated')\n",
    "del_chi2_uncorr = loglike_ratios.del_chi2_uncorr(phi_DMCR_uc)"
   ]
  },
  {
   "cell_type": "code",
   "execution_count": 12,
   "metadata": {},
   "outputs": [
    {
     "name": "stdout",
     "output_type": "stream",
     "text": [
      "\n",
      " Initializing DRN ...\n",
      "\n",
      " At least one of the inputs for gamma_2,p is outside the trained parameter ranges. The default multinest sample will be used for marginalization. \n",
      "2.3083323198377546 2.3702775768338533\n",
      "\n",
      " The simulation tool has been initiated. \n",
      "\n",
      " Initializing DRN ...\n",
      "\n",
      " At least one of the inputs for gamma_2,p is outside the trained parameter ranges. The default multinest sample will be used for marginalization. \n",
      "2.3083323198377546 2.3702775768338533\n",
      "\n",
      " The simulation tool has been initiated. \n",
      "\n",
      " Initializing DRN ...\n",
      "\n",
      " At least one of the inputs for gamma_2,p is outside the trained parameter ranges. The default multinest sample will be used for marginalization. \n",
      "2.3083323198377546 2.3702775768338533\n",
      "\n",
      " The simulation tool has been initiated. \n",
      "\n",
      " Initializing DRN ...\n",
      "\n",
      " At least one of the inputs for gamma_2,p is outside the trained parameter ranges. The default multinest sample will be used for marginalization. \n",
      "2.3083323198377546 2.3702775768338533\n",
      "\n",
      " The simulation tool has been initiated. \n",
      "\n",
      " Initializing DRN ...\n",
      "\n",
      " At least one of the inputs for gamma_2,p is outside the trained parameter ranges. The default multinest sample will be used for marginalization. \n",
      "2.3083323198377546 2.3702775768338533\n",
      "\n",
      " The simulation tool has been initiated. \n",
      "\n",
      " Initializing DRN ...\n",
      "\n",
      " At least one of the inputs for gamma_2,p is outside the trained parameter ranges. The default multinest sample will be used for marginalization. \n",
      "2.3083323198377546 2.3702775768338533\n",
      "\n",
      " The simulation tool has been initiated. \n",
      "\n",
      " Initializing DRN ...\n",
      "\n",
      " At least one of the inputs for gamma_2,p is outside the trained parameter ranges. The default multinest sample will be used for marginalization. \n",
      "2.3083323198377546 2.3702775768338533\n",
      "\n",
      " The simulation tool has been initiated. \n",
      "\n",
      " Initializing DRN ...\n",
      "\n",
      " At least one of the inputs for gamma_2,p is outside the trained parameter ranges. The default multinest sample will be used for marginalization. \n",
      "2.3083323198377546 2.3702775768338533\n",
      "\n",
      " The simulation tool has been initiated. \n",
      "15.5 s ± 2.85 s per loop (mean ± std. dev. of 7 runs, 1 loop each)\n"
     ]
    }
   ],
   "source": [
    "%%timeit\n",
    "## A full routine of simulating antiproton fluxes and calculating both uncorrelated log-likelihood ratio\n",
    "drn = DRNet(propagation_config,prop_params,pe_arg,verbose_arg)\n",
    "sol_mod = ForceFieldApprox(data, propagation_config,drn,verbose_arg)\n",
    "chi_squares = LogLikes(data,propagation_config,verbose_arg)\n",
    "loglike_ratios = LogLikeRatios(drn,chi_squares,sol_mod,verbose_arg)\n",
    "drn.preprocessing_DMparams(DM_mass, bf, sigma_v)\n",
    "phi_DM_LIS = drn.DM_LIS_sim()\n",
    "phi_DMCR_c = sol_mod.TOA_sim(phi_DM_LIS,'correlated')\n",
    "del_chi2_corr = loglike_ratios.del_chi2_corr(phi_DMCR_c)"
   ]
  }
 ],
 "metadata": {
  "kernelspec": {
   "display_name": "pwe",
   "language": "python",
   "name": "python3"
  },
  "language_info": {
   "codemirror_mode": {
    "name": "ipython",
    "version": 3
   },
   "file_extension": ".py",
   "mimetype": "text/x-python",
   "name": "python",
   "nbconvert_exporter": "python",
   "pygments_lexer": "ipython3",
   "version": "3.8.16 (default, Jan 17 2023, 23:13:24) \n[GCC 11.2.0]"
  },
  "orig_nbformat": 4,
  "vscode": {
   "interpreter": {
    "hash": "a9dd8f986d0a55c300a21e755db01b30ba34f4b4a37400856de6c35b2b89446e"
   }
  }
 },
 "nbformat": 4,
 "nbformat_minor": 2
}
