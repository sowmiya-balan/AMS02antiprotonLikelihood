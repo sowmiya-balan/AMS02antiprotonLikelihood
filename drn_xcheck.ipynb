{
 "cells": [
  {
   "cell_type": "code",
   "execution_count": 1,
   "metadata": {},
   "outputs": [
    {
     "name": "stderr",
     "output_type": "stream",
     "text": [
      "2023-02-15 16:30:26.256303: I tensorflow/core/platform/cpu_feature_guard.cc:193] This TensorFlow binary is optimized with oneAPI Deep Neural Network Library (oneDNN) to use the following CPU instructions in performance-critical operations:  AVX2 AVX512F AVX512_VNNI FMA\n",
      "To enable them in other operations, rebuild TensorFlow with the appropriate compiler flags.\n",
      "2023-02-15 16:30:26.399674: I tensorflow/core/util/port.cc:104] oneDNN custom operations are on. You may see slightly different numerical results due to floating-point round-off errors from different computation orders. To turn them off, set the environment variable `TF_ENABLE_ONEDNN_OPTS=0`.\n",
      "2023-02-15 16:30:26.403313: W tensorflow/compiler/xla/stream_executor/platform/default/dso_loader.cc:64] Could not load dynamic library 'libcudart.so.11.0'; dlerror: libcudart.so.11.0: cannot open shared object file: No such file or directory\n",
      "2023-02-15 16:30:26.403329: I tensorflow/compiler/xla/stream_executor/cuda/cudart_stub.cc:29] Ignore above cudart dlerror if you do not have a GPU set up on your machine.\n",
      "2023-02-15 16:30:27.002574: W tensorflow/compiler/xla/stream_executor/platform/default/dso_loader.cc:64] Could not load dynamic library 'libnvinfer.so.7'; dlerror: libnvinfer.so.7: cannot open shared object file: No such file or directory\n",
      "2023-02-15 16:30:27.002629: W tensorflow/compiler/xla/stream_executor/platform/default/dso_loader.cc:64] Could not load dynamic library 'libnvinfer_plugin.so.7'; dlerror: libnvinfer_plugin.so.7: cannot open shared object file: No such file or directory\n",
      "2023-02-15 16:30:27.002634: W tensorflow/compiler/tf2tensorrt/utils/py_utils.cc:38] TF-TRT Warning: Cannot dlopen some TensorRT libraries. If you would like to use Nvidia GPU with TensorRT, please make sure the missing libraries mentioned above are installed properly.\n"
     ]
    },
    {
     "name": "stdout",
     "output_type": "stream",
     "text": [
      " ****************************************\n",
      " *            pbarlike 1.0            *\n",
      " *          arxiv: 23xx.xxxx          *\n",
      " **************************************\n",
      "\n"
     ]
    },
    {
     "name": "stderr",
     "output_type": "stream",
     "text": [
      "2023-02-15 16:30:27.625285: W tensorflow/compiler/xla/stream_executor/platform/default/dso_loader.cc:64] Could not load dynamic library 'libcuda.so.1'; dlerror: libcuda.so.1: cannot open shared object file: No such file or directory\n",
      "2023-02-15 16:30:27.625310: W tensorflow/compiler/xla/stream_executor/cuda/cuda_driver.cc:265] failed call to cuInit: UNKNOWN ERROR (303)\n",
      "2023-02-15 16:30:27.625328: I tensorflow/compiler/xla/stream_executor/cuda/cuda_diagnostics.cc:156] kernel driver does not appear to be running on this host (latitude-7320): /proc/driver/nvidia/version does not exist\n"
     ]
    }
   ],
   "source": [
    "# Imports\n",
    "import numpy as np\n",
    "from pbarlike import *\n",
    "from pbarlike.drn_interface import create_DIFF_BRK_parameters,create_INJ_BRK_parameters\n",
    "from pbarlike.data import ams02Data"
   ]
  },
  {
   "cell_type": "code",
   "execution_count": 2,
   "metadata": {},
   "outputs": [],
   "source": [
    "# Parameters\n",
    "m_DM = np.array([10**(5.018181818181818 - 3)])\n",
    "b_bbar_bf = np.array([1.000e-05, 1.000e-05, 9.993e-01, 1.000e-05, 1.000e-05, 1.000e-05,  1.000e-05, 1.000e-05])\n",
    "sv = 5.3366992312063e-27\n",
    "ppdbmarg = np.genfromtxt('pbarlike/dependencies/DIFF.BRK/multinest_sample.dat')\n",
    "ppibmarg = np.genfromtxt('pbarlike/dependencies/INJ.BRK/multinest_sample.dat')\n",
    "pp_db = np.array(ppdbmarg[0,:10])\n",
    "pp_ib = np.array(ppibmarg[0,:10])\n",
    "pp = [pp_db,pp_ib]\n",
    "pm = [\"DIFF.BRK\",\"INJ.BRK\"]\n",
    "c = 0\n",
    "include_low_energy_arg = False\n",
    "production_xsection_cov_arg = True\n",
    "pe_arg = False\n",
    "verbose_arg = True"
   ]
  },
  {
   "cell_type": "code",
   "execution_count": 3,
   "metadata": {},
   "outputs": [
    {
     "name": "stdout",
     "output_type": "stream",
     "text": [
      "\n",
      " Initializing DRN ...\n",
      "\n",
      " Shape of propagation parameters:  (1, 10)\n",
      "Preprocessed prop params for SNet:  [[ 1.16274149  0.85904882  0.66635397 -2.08497929 -1.05192105  0.93676446\n",
      "  -1.510524    1.67240199 -0.77921612  0.09184801]]\n"
     ]
    },
    {
     "name": "stderr",
     "output_type": "stream",
     "text": [
      "2023-02-15 16:30:29.524674: I tensorflow/core/platform/cpu_feature_guard.cc:193] This TensorFlow binary is optimized with oneAPI Deep Neural Network Library (oneDNN) to use the following CPU instructions in performance-critical operations:  AVX2 AVX512F AVX512_VNNI FMA\n",
      "To enable them in other operations, rebuild TensorFlow with the appropriate compiler flags.\n"
     ]
    },
    {
     "name": "stdout",
     "output_type": "stream",
     "text": [
      "\n",
      " SNet Output:  tf.Tensor(\n",
      "[[-3.455153   -3.0032673  -2.5385284  -2.075832   -1.6314598  -1.2200731\n",
      "  -0.85330474 -0.5368954  -0.27319178 -0.06058922  0.10562918  0.23038232\n",
      "   0.3183915   0.37487358  0.40459093  0.41552547  0.41380003  0.40322673\n",
      "   0.3851595   0.3604774   0.3311728   0.2981964   0.26209912  0.22395642\n",
      "   0.1872437   0.15912196  0.13109142  0.10225467]], shape=(1, 28), dtype=float32)\n",
      "\n",
      " Energy at which SNet produces output:  [3.90427e-01 5.06075e-01 6.55980e-01 8.50288e-01 1.10215e+00 1.42862e+00\n",
      " 1.85180e+00 2.40032e+00 3.11132e+00 4.03292e+00 5.22752e+00 6.77596e+00\n",
      " 8.78308e+00 1.13847e+01 1.47570e+01 1.91282e+01 2.47942e+01 3.21384e+01\n",
      " 4.16582e+01 5.39978e+01 6.99925e+01 9.07251e+01 1.17599e+02 1.52433e+02\n",
      " 1.97585e+02 2.56112e+02 3.31975e+02 4.30310e+02]\n",
      "\n",
      " phi_CR_LIS:  tf.Tensor(\n",
      "[[4.4431342e-03 6.2424135e-03 9.0337256e-03 1.3011872e-02 1.7967608e-02\n",
      "  2.2995971e-02 2.6557747e-02 2.7313534e-02 2.4880413e-02 2.0148274e-02\n",
      "  1.4663269e-02 9.6997619e-03 5.8958312e-03 3.3327693e-03 1.7713163e-03\n",
      "  9.0158230e-04 4.4571242e-04 2.1590429e-04 1.0279409e-04 4.8201662e-05\n",
      "  2.2363189e-05 1.0288031e-05 4.6990417e-06 2.1362059e-06 9.7433428e-07\n",
      "  4.5327437e-07 2.1091471e-07 9.7959109e-08]], shape=(1, 28), dtype=float32)\n",
      "\n",
      " The simulation tool has been initiated. \n",
      "\n",
      " Initializing DRN ...\n",
      "\n",
      " Solar modulated CR flux (sol mod params using uncorr chi2):  [[1.28583725e-02 1.15139046e-02 1.00474397e-02 8.77285902e-03\n",
      "  7.53479924e-03 6.39323813e-03 5.43174725e-03 4.53632087e-03\n",
      "  3.77121198e-03 3.13263761e-03 2.57519810e-03 2.12142515e-03\n",
      "  1.74378390e-03 1.41888473e-03 1.15041285e-03 9.34416454e-04\n",
      "  7.57264128e-04 6.13161204e-04 4.95531972e-04 3.99612570e-04\n",
      "  3.22732528e-04 2.60953630e-04 2.11432827e-04 1.70976780e-04\n",
      "  1.38137315e-04 1.11675760e-04 9.02360242e-05 7.29148156e-05\n",
      "  5.89181463e-05 4.76565994e-05 3.85086091e-05 3.11158772e-05\n",
      "  2.51144764e-05 2.02546272e-05 1.63293598e-05 1.17452556e-05\n",
      "  7.54316038e-06 4.82889800e-06 3.01846355e-06 1.80906423e-06\n",
      "  1.04540262e-06 6.18087135e-07 3.14049916e-07 9.98406960e-08]]\n",
      "\n",
      " Solar modulated CR flux (sol mod params using corr chi2):  [[1.21301188e-02 1.08451859e-02 9.51291996e-03 8.34503562e-03\n",
      "  7.16613935e-03 6.10612022e-03 5.20766764e-03 4.35174349e-03\n",
      "  3.63003432e-03 3.02478149e-03 2.48874859e-03 2.05559859e-03\n",
      "  1.69381697e-03 1.37992512e-03 1.12124514e-03 9.12526521e-04\n",
      "  7.40454184e-04 6.00558660e-04 4.86108818e-04 3.92465244e-04\n",
      "  3.17381863e-04 2.56941687e-04 2.08416425e-04 1.68679635e-04\n",
      "  1.36413892e-04 1.10381712e-04 8.92526148e-05 7.21758335e-05\n",
      "  5.83628580e-05 4.72387850e-05 3.81917367e-05 3.08775537e-05\n",
      "  2.49354998e-05 2.01194384e-05 1.62279142e-05 1.16798731e-05\n",
      "  7.50669537e-06 4.80875160e-06 3.00763278e-06 1.80359281e-06\n",
      "  1.04276423e-06 6.16800476e-07 3.13530235e-07 9.97284196e-08]]\n",
      "\n",
      " Uncorrelated chi2 for CR only case:  [39.09555445]\n",
      "\n",
      " Correlated chi2 for CR only case:  [101.85221431]\n",
      "\n",
      " Marginalized chi2 for CR only case:  2.3581121765520003e-14\n",
      "\n",
      " Length of given DM mass array:  1\n",
      "\n",
      " Preprocessed mass:  [0.43973727]\n",
      "\n",
      " Preprocessed branching fractions:  [[0.20588897 0.19836923 0.86659741 0.20133731 0.20266815 0.20706285\n",
      "  0.19702292 0.20291623]]\n",
      "\n",
      " Preprocessed prop params for DMNet:  [[ 1.16274149  0.85904882  0.66635397 -2.08497929 -1.05192105  0.93676446\n",
      "  -1.510524    1.67240199 -0.77921612  0.09184801]]\n",
      "\n",
      " DMNet Ouput:  tf.Tensor(\n",
      "[[-0.4970096  -0.33085328 -0.16617563 -0.00299519  0.15807697  0.31679723\n",
      "   0.4725251   0.6247104   0.77266896  0.91580844  1.0534356   1.1846604\n",
      "   1.3094711   1.4272261   1.5373522   1.6394703   1.7329113   1.8172756\n",
      "   1.8929008   1.9594309   2.0161107   2.0619233   2.0947375   2.1116881\n",
      "   2.1106713   2.0916173   2.0555127   2.0068843   1.954309    1.9046293\n",
      "   1.844605    1.7393577   1.5655767   1.3242947   1.0172665   0.6225841\n",
      "   0.10431167 -0.54422003 -1.3077859  -2.1634374 ]], shape=(1, 40), dtype=float32)\n",
      "\n",
      " Interpolated DMNet Output:  [[7.70621458e-03 7.94926157e-03 7.93538531e-03 7.68919878e-03\n",
      "  7.23365187e-03 6.59244783e-03 5.77907692e-03 4.82898446e-03\n",
      "  3.81777642e-03 2.84324994e-03 1.99891040e-03 1.34240755e-03\n",
      "  8.96011170e-04 5.91748351e-04 3.51739578e-04 1.66849559e-04\n",
      "  6.21940278e-05 1.81327457e-05 3.70927306e-06 4.95910703e-07\n",
      "  4.29568977e-08 7.62108893e-09 0.00000000e+00 0.00000000e+00\n",
      "  0.00000000e+00 0.00000000e+00 0.00000000e+00 0.00000000e+00]]\n",
      "\n",
      " phi_LIS:  tf.Tensor(\n",
      "[[[5.81374392e-03 7.65625108e-03 1.04450956e-02 1.43794548e-02\n",
      "   1.92541685e-02 2.41684895e-02 2.75856014e-02 2.81724073e-02\n",
      "   2.55594347e-02 2.06539668e-02 1.50187900e-02 9.93851945e-03\n",
      "   6.05519349e-03 3.43801617e-03 1.83387590e-03 9.31257789e-04\n",
      "   4.56774113e-04 2.19129346e-04 1.03453815e-04 4.82898649e-05\n",
      "   2.23708284e-05 1.02893864e-05 4.69904171e-06 2.13620592e-06\n",
      "   9.74334284e-07 4.53274367e-07 2.10914706e-07 9.79591093e-08]]], shape=(1, 1, 28), dtype=float32)\n",
      "\n",
      " Flux after solar modulation, phi_DMCR:  [[[1.26165690e-02 1.12832040e-02 9.88520588e-03 8.66225437e-03\n",
      "   7.44339305e-03 6.34068051e-03 5.40677142e-03 4.52372650e-03\n",
      "   3.77581232e-03 3.14840717e-03 2.59302315e-03 2.14270803e-03\n",
      "   1.76650521e-03 1.43830318e-03 1.16715940e-03 9.48710940e-04\n",
      "   7.68241034e-04 6.21330916e-04 5.01503325e-04 4.03722461e-04\n",
      "   3.25429459e-04 2.62616715e-04 2.12352407e-04 1.71405819e-04\n",
      "   1.38244949e-04 1.11564905e-04 9.00248005e-05 7.26913541e-05\n",
      "   5.86926421e-05 4.74363212e-05 3.83290747e-05 3.09710824e-05\n",
      "   2.49970925e-05 2.01611785e-05 1.62586507e-05 1.16989593e-05\n",
      "   7.51684109e-06 4.81405047e-06 3.01046679e-06 1.80502484e-06\n",
      "   1.04345492e-06 6.17137371e-07 3.13666333e-07 9.97578302e-08]]]\n",
      "\n",
      " phi_LIS:  tf.Tensor(\n",
      "[[[5.81374392e-03 7.65625108e-03 1.04450956e-02 1.43794548e-02\n",
      "   1.92541685e-02 2.41684895e-02 2.75856014e-02 2.81724073e-02\n",
      "   2.55594347e-02 2.06539668e-02 1.50187900e-02 9.93851945e-03\n",
      "   6.05519349e-03 3.43801617e-03 1.83387590e-03 9.31257789e-04\n",
      "   4.56774113e-04 2.19129346e-04 1.03453815e-04 4.82898649e-05\n",
      "   2.23708284e-05 1.02893864e-05 4.69904171e-06 2.13620592e-06\n",
      "   9.74334284e-07 4.53274367e-07 2.10914706e-07 9.79591093e-08]]], shape=(1, 1, 28), dtype=float32)\n",
      "\n",
      " Flux after solar modulation, phi_DMCR:  [[[1.20413088e-02 1.07558309e-02 9.46181336e-03 8.32202661e-03\n",
      "   7.15044150e-03 6.11155718e-03 5.22725394e-03 4.37577498e-03\n",
      "   3.66217327e-03 3.06124359e-03 2.52293857e-03 2.08917080e-03\n",
      "   1.72574128e-03 1.40632755e-03 1.14319763e-03 9.30713381e-04\n",
      "   7.54366946e-04 6.10940775e-04 4.93743741e-04 3.97838757e-04\n",
      "   3.21032978e-04 2.59326567e-04 2.09883570e-04 1.69531087e-04\n",
      "   1.36840822e-04 1.10512438e-04 8.92285009e-05 7.20933946e-05\n",
      "   5.82436545e-05 4.70987526e-05 3.80736851e-05 3.07789955e-05\n",
      "   2.48528392e-05 2.00523173e-05 1.61769367e-05 1.16462724e-05\n",
      "   7.48744426e-06 4.79780204e-06 3.00172856e-06 1.80060859e-06\n",
      "   1.04132453e-06 6.16098096e-07 3.13246431e-07 9.96670739e-08]]]\n",
      "\n",
      " Uncorrelated chi2 for DMCR:  [35.16530628]\n",
      "\n",
      " Correlated chi2 for DMCR:  [109.18852134]\n"
     ]
    },
    {
     "data": {
      "text/plain": [
       "{'uncorrelated': [-3.930248175048632], 'correlated': [7.336307031695547]}"
      ]
     },
     "execution_count": 3,
     "metadata": {},
     "output_type": "execute_result"
    }
   ],
   "source": [
    "loglike_recipe(m_DM, b_bbar_bf, sv, pp[c], prop_model=pm[c], \\\n",
    "                               Data=ams02Data,include_low_energy=include_low_energy_arg, \\\n",
    "                               production_xsection_cov=production_xsection_cov_arg,prevent_extrapolation= pe_arg, verbose=verbose_arg)"
   ]
  }
 ],
 "metadata": {
  "kernelspec": {
   "display_name": "pwe",
   "language": "python",
   "name": "python3"
  },
  "language_info": {
   "codemirror_mode": {
    "name": "ipython",
    "version": 3
   },
   "file_extension": ".py",
   "mimetype": "text/x-python",
   "name": "python",
   "nbconvert_exporter": "python",
   "pygments_lexer": "ipython3",
   "version": "3.8.16 (default, Jan 17 2023, 23:13:24) \n[GCC 11.2.0]"
  },
  "orig_nbformat": 4,
  "vscode": {
   "interpreter": {
    "hash": "a9dd8f986d0a55c300a21e755db01b30ba34f4b4a37400856de6c35b2b89446e"
   }
  }
 },
 "nbformat": 4,
 "nbformat_minor": 2
}
